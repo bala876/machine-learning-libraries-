{
 "cells": [
  {
   "cell_type": "code",
   "execution_count": null,
   "metadata": {},
   "outputs": [],
   "source": [
    "#convert list into  DataFrame"
   ]
  },
  {
   "cell_type": "code",
   "execution_count": 3,
   "metadata": {},
   "outputs": [
    {
     "name": "stdout",
     "output_type": "stream",
     "text": [
      "   0  1  2\n",
      "0  0  1  2\n",
      "1  3  4  5\n"
     ]
    }
   ],
   "source": [
    "import pandas as pd\n",
    "\n",
    "data = [[0, 1, 2],[3, 4, 5]]\n",
    "df = pd.DataFrame(data)\n",
    "print(df)"
   ]
  },
  {
   "cell_type": "code",
   "execution_count": null,
   "metadata": {},
   "outputs": [],
   "source": [
    "#convert numpy to  DataFrame"
   ]
  },
  {
   "cell_type": "code",
   "execution_count": 16,
   "metadata": {},
   "outputs": [
    {
     "name": "stdout",
     "output_type": "stream",
     "text": [
      "Np array:\n",
      "[10 20 30 40 50]\n",
      "0    10\n",
      "1    20\n",
      "2    30\n",
      "3    40\n",
      "4    50\n",
      "dtype: int64\n"
     ]
    }
   ],
   "source": [
    "import numpy as np\n",
    "import pandas as pd\n",
    "np_array = np.array([10, 20, 30, 40, 50])\n",
    "print(\"Np array:\")\n",
    "print(np_array)\n",
    "new_series = pd.Series(np_array)\n",
    "print(new_series)\n"
   ]
  },
  {
   "cell_type": "code",
   "execution_count": null,
   "metadata": {},
   "outputs": [],
   "source": [
    "#Convert the Dictionary to a DataFrame\n"
   ]
  },
  {
   "cell_type": "code",
   "execution_count": 9,
   "metadata": {},
   "outputs": [
    {
     "name": "stdout",
     "output_type": "stream",
     "text": [
      "   Products  Prices\n",
      "0  Computer    1500\n",
      "1   Monitor     300\n",
      "2   Printer     150\n",
      "3      Desk     250\n"
     ]
    }
   ],
   "source": [
    "from pandas import DataFrame\n",
    "\n",
    "my_dict = {'Computer':1500,'Monitor':300,'Printer':150,'Desk':250}\n",
    "df = DataFrame(list(my_dict.items()),columns = ['Products','Prices']) \n",
    "\n",
    "print (df)"
   ]
  },
  {
   "cell_type": "code",
   "execution_count": null,
   "metadata": {},
   "outputs": [],
   "source": [
    "#convert list to dat"
   ]
  },
  {
   "cell_type": "code",
   "execution_count": 10,
   "metadata": {},
   "outputs": [
    {
     "name": "stdout",
     "output_type": "stream",
     "text": [
      "[['Tablet', 250], ['iPhone', 800], ['Laptop', 1200], ['Monitor', 300]]\n"
     ]
    }
   ],
   "source": [
    "from pandas import DataFrame\n",
    "\n",
    "products = {'Product': ['Tablet','iPhone','Laptop','Monitor'],\n",
    "            'Price': [250,800,1200,300]\n",
    "            }\n",
    "\n",
    "df = DataFrame(products, columns= ['Product', 'Price'])\n",
    "\n",
    "products_list = df.values.tolist()\n",
    "print (products_list)"
   ]
  },
  {
   "cell_type": "code",
   "execution_count": null,
   "metadata": {},
   "outputs": [],
   "source": [
    "#convert pandas to numpy "
   ]
  },
  {
   "cell_type": "code",
   "execution_count": 12,
   "metadata": {},
   "outputs": [
    {
     "name": "stdout",
     "output_type": "stream",
     "text": [
      "      A    B    C\n",
      "ID               \n",
      "1   NaN  0.2  NaN\n",
      "2   NaN  NaN  0.5\n",
      "3   NaN  0.2  0.5\n",
      "4   0.1  0.2  NaN\n",
      "5   0.1  0.2  0.5\n",
      "6   0.1  NaN  0.5\n",
      "7   0.1  NaN  NaN\n"
     ]
    }
   ],
   "source": [
    "import numpy as np\n",
    "import pandas as pd\n",
    "\n",
    "index = [1, 2, 3, 4, 5, 6, 7]\n",
    "a = [np.nan, np.nan, np.nan, 0.1, 0.1, 0.1, 0.1]\n",
    "b = [0.2, np.nan, 0.2, 0.2, 0.2, np.nan, np.nan]\n",
    "c = [np.nan, 0.5, 0.5, np.nan, 0.5, 0.5, np.nan]\n",
    "df = pd.DataFrame({'A': a, 'B': b, 'C': c}, index=index)\n",
    "df = df.rename_axis('ID')\n",
    "print(df)"
   ]
  },
  {
   "cell_type": "code",
   "execution_count": null,
   "metadata": {},
   "outputs": [],
   "source": [
    "#the columns in Pandas DataFrame"
   ]
  },
  {
   "cell_type": "code",
   "execution_count": 1,
   "metadata": {},
   "outputs": [
    {
     "name": "stdout",
     "output_type": "stream",
     "text": [
      "Index(['test', 'odi', 't20'], dtype='object')\n"
     ]
    }
   ],
   "source": [
    "\n",
    "import pandas as pd \n",
    "   \n",
    "rankings = {'test': ['India', 'South Africa', 'England', \n",
    "                            'New Zealand', 'Australia'], \n",
    "              'odi': ['England', 'India', 'New Zealand', \n",
    "                            'South Africa', 'Pakistan'], \n",
    "               't20': ['Pakistan', 'India', 'Australia', \n",
    "                              'England', 'New Zealand']} \n",
    "   \n",
    "\n",
    "rankings_pd = pd.DataFrame(rankings) \n",
    "   \n",
    "\n",
    "print(rankings_pd.columns) "
   ]
  },
  {
   "cell_type": "code",
   "execution_count": null,
   "metadata": {},
   "outputs": [],
   "source": [
    "#print column name to the pandas"
   ]
  },
  {
   "cell_type": "code",
   "execution_count": null,
   "metadata": {},
   "outputs": [],
   "source": [
    "change the culm name"
   ]
  },
  {
   "cell_type": "code",
   "execution_count": 2,
   "metadata": {},
   "outputs": [
    {
     "name": "stdout",
     "output_type": "stream",
     "text": [
      "   age  weight  height  stanuthu\n",
      "0    3      10     5.0     42.25\n",
      "1   10      22     5.3     74.31\n",
      "2   30      68     6.0    103.72\n",
      "3   35      70     7.0    131.70\n",
      "4   45      65     6.5    158.75\n",
      "5   50      72     7.2    185.12\n",
      "6   33      68     6.8    198.34\n",
      "7   55      72     7.2    123.45\n",
      "8   60      88     7.5    132.45\n"
     ]
    }
   ],
   "source": [
    "import pandas as pd \n",
    "df=pd.read_csv(\"age_cul.csv\")\n",
    "print(df)"
   ]
  },
  {
   "cell_type": "code",
   "execution_count": null,
   "metadata": {},
   "outputs": [],
   "source": [
    "#change the datatype of the colms in pandas"
   ]
  },
  {
   "cell_type": "code",
   "execution_count": 1,
   "metadata": {},
   "outputs": [
    {
     "name": "stdout",
     "output_type": "stream",
     "text": [
      "A    object\n",
      "B    object\n",
      "C    object\n",
      "dtype: object\n",
      "   A  B    C\n",
      "0  1  a  1.1\n",
      "1  2  b  1.0\n",
      "2  3  c  1.3\n",
      "3  4  d    2\n",
      "4  5  e    5\n"
     ]
    }
   ],
   "source": [
    "# importing pandas as pd \n",
    "import pandas as pd \n",
    "\n",
    "\n",
    "df = pd.DataFrame({ \n",
    "    'A': [1, 2, 3, 4, 5], \n",
    "\t'B': ['a', 'b', 'c', 'd', 'e'], \n",
    "\t'C': [1.1, '1.0', '1.3', 2, 5] }) \n",
    "\n",
    "\n",
    "df = df.astype(str) \n",
    "print(df.dtypes) \n",
    "print(df)"
   ]
  },
  {
   "cell_type": "code",
   "execution_count": null,
   "metadata": {},
   "outputs": [],
   "source": [
    "#concatenate two dataframe "
   ]
  },
  {
   "cell_type": "code",
   "execution_count": 6,
   "metadata": {},
   "outputs": [],
   "source": [
    "df1 = pd.DataFrame({'A': ['A0', 'A1', 'A2', 'A3'],\n",
    "                          'B': ['B0', 'B1', 'B2', 'B3'],\n",
    "                          'C': ['C0', 'C1', 'C2', 'C3'],\n",
    "                          'D': ['D0', 'D1', 'D2', 'D3']},\n",
    "                           index=[0, 1, 2, 3])\n",
    "df2 = pd.DataFrame({'A': ['A4', 'A5', 'A6', 'A7'],\n",
    "                           'B': ['B4', 'B5', 'B6', 'B7'],\n",
    "                           'C': ['C4', 'C5', 'C6', 'C7'],\n",
    "                           'D': ['D4', 'D5', 'D6', 'D7']},\n",
    "                            index=[4, 5, 6, 7])\n",
    "df3 = pd.DataFrame({'A': ['A8', 'A9', 'A10', 'A11'],\n",
    "                           'B': ['B8', 'B9', 'B10', 'B11'],\n",
    "                            'C': ['C8', 'C9', 'C10', 'C11'],\n",
    "                            'D': ['D8', 'D9', 'D10', 'D11']},\n",
    "                            index=[8, 9, 10, 11])\n",
    "\n",
    "frames = [df1, df2, df3]\n",
    "result = pd.concat(frames)\n",
    "\n",
    "\n",
    "# next cell\n",
    "result = pd.concat([df1,df2])"
   ]
  },
  {
   "cell_type": "code",
   "execution_count": null,
   "metadata": {},
   "outputs": [],
   "source": [
    "#choose one culm from the dataframe"
   ]
  },
  {
   "cell_type": "code",
   "execution_count": 7,
   "metadata": {},
   "outputs": [
    {
     "name": "stdout",
     "output_type": "stream",
     "text": [
      "   age  weight  height  stanuthu\n",
      "0    3      10     5.0     42.25\n",
      "1   10      22     5.3     74.31\n",
      "2   30      68     6.0    103.72\n",
      "3   35      70     7.0    131.70\n",
      "4   45      65     6.5    158.75\n",
      "5   50      72     7.2    185.12\n",
      "6   33      68     6.8    198.34\n",
      "7   55      72     7.2    123.45\n",
      "8   60      88     7.5    132.45\n"
     ]
    }
   ],
   "source": [
    "import pandas as pd\n",
    "\n",
    "df =pd.read_csv(\"age_cul.csv\")\n",
    "print(df)"
   ]
  },
  {
   "cell_type": "code",
   "execution_count": 17,
   "metadata": {},
   "outputs": [
    {
     "data": {
      "text/plain": [
       "0     3\n",
       "1    10\n",
       "2    30\n",
       "3    35\n",
       "4    45\n",
       "5    50\n",
       "6    33\n",
       "7    55\n",
       "8    60\n",
       "Name: age, dtype: int64"
      ]
     },
     "execution_count": 17,
     "metadata": {},
     "output_type": "execute_result"
    }
   ],
   "source": [
    "df['age'] #choose one column name"
   ]
  },
  {
   "cell_type": "code",
   "execution_count": null,
   "metadata": {},
   "outputs": [],
   "source": [
    "#choose multiple data from the dataframe"
   ]
  },
  {
   "cell_type": "code",
   "execution_count": 18,
   "metadata": {},
   "outputs": [
    {
     "data": {
      "text/html": [
       "<div>\n",
       "<style scoped>\n",
       "    .dataframe tbody tr th:only-of-type {\n",
       "        vertical-align: middle;\n",
       "    }\n",
       "\n",
       "    .dataframe tbody tr th {\n",
       "        vertical-align: top;\n",
       "    }\n",
       "\n",
       "    .dataframe thead th {\n",
       "        text-align: right;\n",
       "    }\n",
       "</style>\n",
       "<table border=\"1\" class=\"dataframe\">\n",
       "  <thead>\n",
       "    <tr style=\"text-align: right;\">\n",
       "      <th></th>\n",
       "      <th>Name</th>\n",
       "      <th>Qualification</th>\n",
       "    </tr>\n",
       "  </thead>\n",
       "  <tbody>\n",
       "    <tr>\n",
       "      <th>0</th>\n",
       "      <td>Jai</td>\n",
       "      <td>Msc</td>\n",
       "    </tr>\n",
       "    <tr>\n",
       "      <th>1</th>\n",
       "      <td>Princi</td>\n",
       "      <td>MA</td>\n",
       "    </tr>\n",
       "    <tr>\n",
       "      <th>2</th>\n",
       "      <td>Gaurav</td>\n",
       "      <td>MCA</td>\n",
       "    </tr>\n",
       "    <tr>\n",
       "      <th>3</th>\n",
       "      <td>Anuj</td>\n",
       "      <td>Phd</td>\n",
       "    </tr>\n",
       "  </tbody>\n",
       "</table>\n",
       "</div>"
      ],
      "text/plain": [
       "     Name Qualification\n",
       "0     Jai           Msc\n",
       "1  Princi            MA\n",
       "2  Gaurav           MCA\n",
       "3    Anuj           Phd"
      ]
     },
     "execution_count": 18,
     "metadata": {},
     "output_type": "execute_result"
    }
   ],
   "source": [
    "\n",
    "import pandas as pd \n",
    "  \n",
    "                                                    \n",
    "data = {'Name':['Jai', 'Princi', 'Gaurav', 'Anuj'], \n",
    "        'Age':[27, 24, 22, 32], \n",
    "        'Address':['Delhi', 'Kanpur', 'Allahabad', 'Kannauj'], \n",
    "        'Qualification':['Msc', 'MA', 'MCA', 'Phd']} \n",
    "  \n",
    "\n",
    "df = pd.DataFrame(data) \n",
    "  \n",
    "df[['Name', 'Qualification']]  #choose multiple data from the dataframe"
   ]
  },
  {
   "cell_type": "code",
   "execution_count": null,
   "metadata": {},
   "outputs": [],
   "source": [
    "#sorting the dataframe multiple columns"
   ]
  },
  {
   "cell_type": "code",
   "execution_count": 19,
   "metadata": {},
   "outputs": [
    {
     "name": "stdout",
     "output_type": "stream",
     "text": [
      "            Brand  Price  Year\n",
      "0     Honda Civic  22000  2015\n",
      "1  Toyota Corolla  25000  2013\n",
      "2      Ford Focus  27000  2018\n",
      "3         Audi A4  35000  2018\n"
     ]
    }
   ],
   "source": [
    "from pandas import DataFrame\n",
    " \n",
    "Cars = {'Brand': ['Honda Civic','Toyota Corolla','Ford Focus','Audi A4'],\n",
    "        'Price': [22000,25000,27000,35000],\n",
    "        'Year': [2015,2013,2018,2018]\n",
    "        }\n",
    " \n",
    "df = DataFrame(Cars, columns= ['Brand', 'Price','Year'])\n",
    "\n",
    "print (df)"
   ]
  },
  {
   "cell_type": "code",
   "execution_count": 21,
   "metadata": {},
   "outputs": [
    {
     "name": "stdout",
     "output_type": "stream",
     "text": [
      "            Brand  Price  Year\n",
      "3         Audi A4  35000  2018\n",
      "2      Ford Focus  27000  2018\n",
      "0     Honda Civic  22000  2015\n",
      "1  Toyota Corolla  25000  2013\n"
     ]
    }
   ],
   "source": [
    "df.sort_values(by=['Brand'], inplace=True)\n",
    "print(df)   #sorting the dataframe multiple  columns"
   ]
  },
  {
   "cell_type": "code",
   "execution_count": null,
   "metadata": {},
   "outputs": [],
   "source": [
    "#describe the dataset of pandas"
   ]
  },
  {
   "cell_type": "code",
   "execution_count": null,
   "metadata": {},
   "outputs": [],
   "source": [
    "import numpy as np\n",
    "import pandas as pd"
   ]
  },
  {
   "cell_type": "code",
   "execution_count": 22,
   "metadata": {},
   "outputs": [
    {
     "data": {
      "text/html": [
       "<div>\n",
       "<style scoped>\n",
       "    .dataframe tbody tr th:only-of-type {\n",
       "        vertical-align: middle;\n",
       "    }\n",
       "\n",
       "    .dataframe tbody tr th {\n",
       "        vertical-align: top;\n",
       "    }\n",
       "\n",
       "    .dataframe thead th {\n",
       "        text-align: right;\n",
       "    }\n",
       "</style>\n",
       "<table border=\"1\" class=\"dataframe\">\n",
       "  <thead>\n",
       "    <tr style=\"text-align: right;\">\n",
       "      <th></th>\n",
       "      <th>age</th>\n",
       "      <th>weight</th>\n",
       "      <th>height</th>\n",
       "      <th>stanuthu</th>\n",
       "    </tr>\n",
       "  </thead>\n",
       "  <tbody>\n",
       "    <tr>\n",
       "      <th>count</th>\n",
       "      <td>9.000000</td>\n",
       "      <td>9.000000</td>\n",
       "      <td>9.00000</td>\n",
       "      <td>9.000000</td>\n",
       "    </tr>\n",
       "    <tr>\n",
       "      <th>mean</th>\n",
       "      <td>35.666667</td>\n",
       "      <td>59.444444</td>\n",
       "      <td>6.50000</td>\n",
       "      <td>127.787778</td>\n",
       "    </tr>\n",
       "    <tr>\n",
       "      <th>std</th>\n",
       "      <td>19.442222</td>\n",
       "      <td>25.656925</td>\n",
       "      <td>0.88459</td>\n",
       "      <td>50.043680</td>\n",
       "    </tr>\n",
       "    <tr>\n",
       "      <th>min</th>\n",
       "      <td>3.000000</td>\n",
       "      <td>10.000000</td>\n",
       "      <td>5.00000</td>\n",
       "      <td>42.250000</td>\n",
       "    </tr>\n",
       "    <tr>\n",
       "      <th>25%</th>\n",
       "      <td>30.000000</td>\n",
       "      <td>65.000000</td>\n",
       "      <td>6.00000</td>\n",
       "      <td>103.720000</td>\n",
       "    </tr>\n",
       "    <tr>\n",
       "      <th>50%</th>\n",
       "      <td>35.000000</td>\n",
       "      <td>68.000000</td>\n",
       "      <td>6.80000</td>\n",
       "      <td>131.700000</td>\n",
       "    </tr>\n",
       "    <tr>\n",
       "      <th>75%</th>\n",
       "      <td>50.000000</td>\n",
       "      <td>72.000000</td>\n",
       "      <td>7.20000</td>\n",
       "      <td>158.750000</td>\n",
       "    </tr>\n",
       "    <tr>\n",
       "      <th>max</th>\n",
       "      <td>60.000000</td>\n",
       "      <td>88.000000</td>\n",
       "      <td>7.50000</td>\n",
       "      <td>198.340000</td>\n",
       "    </tr>\n",
       "  </tbody>\n",
       "</table>\n",
       "</div>"
      ],
      "text/plain": [
       "             age     weight   height    stanuthu\n",
       "count   9.000000   9.000000  9.00000    9.000000\n",
       "mean   35.666667  59.444444  6.50000  127.787778\n",
       "std    19.442222  25.656925  0.88459   50.043680\n",
       "min     3.000000  10.000000  5.00000   42.250000\n",
       "25%    30.000000  65.000000  6.00000  103.720000\n",
       "50%    35.000000  68.000000  6.80000  131.700000\n",
       "75%    50.000000  72.000000  7.20000  158.750000\n",
       "max    60.000000  88.000000  7.50000  198.340000"
      ]
     },
     "execution_count": 22,
     "metadata": {},
     "output_type": "execute_result"
    }
   ],
   "source": [
    "df =pd.read_csv(\"age_cul.csv\")\n",
    "df.describe() #describe the dataset of pandas"
   ]
  },
  {
   "cell_type": "code",
   "execution_count": null,
   "metadata": {},
   "outputs": [],
   "source": [
    "#filtering the dataset of pandas"
   ]
  },
  {
   "cell_type": "code",
   "execution_count": 24,
   "metadata": {},
   "outputs": [
    {
     "name": "stdout",
     "output_type": "stream",
     "text": [
      "   age  weight  height  stanuthu\n",
      "0    3      10     5.0     42.25\n",
      "1   10      22     5.3     74.31\n",
      "2   30      68     6.0    103.72\n",
      "3   35      70     7.0    131.70\n",
      "4   45      65     6.5    158.75\n",
      "5   50      72     7.2    185.12\n",
      "6   33      68     6.8    198.34\n",
      "7   55      72     7.2    123.45\n",
      "8   60      88     7.5    132.45\n"
     ]
    }
   ],
   "source": [
    "df =pd.read_csv(\"age_cul.csv\")\n",
    "print(df)"
   ]
  },
  {
   "cell_type": "code",
   "execution_count": 25,
   "metadata": {},
   "outputs": [
    {
     "name": "stdout",
     "output_type": "stream",
     "text": [
      "   age  weight  height  stanuthu\n",
      "4   45      65     6.5    158.75\n",
      "5   50      72     7.2    185.12\n",
      "6   33      68     6.8    198.34\n",
      "8   60      88     7.5    132.45\n"
     ]
    }
   ],
   "source": [
    "df = df.query('stanuthu>131.70')\n",
    "print(df) #filtering the dataset of pandas"
   ]
  },
  {
   "cell_type": "code",
   "execution_count": null,
   "metadata": {},
   "outputs": [],
   "source": [
    "--------------file convert to pandas xlsx,csv--------------------"
   ]
  },
  {
   "cell_type": "code",
   "execution_count": null,
   "metadata": {},
   "outputs": [],
   "source": [
    "#pandas data convert to xlsx sheet"
   ]
  },
  {
   "cell_type": "code",
   "execution_count": 26,
   "metadata": {},
   "outputs": [
    {
     "name": "stdout",
     "output_type": "stream",
     "text": [
      "DataFrame is written successfully to the Excel File.\n"
     ]
    }
   ],
   "source": [
    "import pandas as pd  \n",
    "# create dataframe  \n",
    "info_marks = pd.DataFrame({'name': ['Parker', 'Smith', 'William', 'Terry'],  \n",
    "     'Maths': [78, 84, 67, 72],  \n",
    "     'Science': [89, 92, 61, 77],  \n",
    "     'English': [72, 75, 64, 82]})  \n",
    "\n",
    "writer = pd.ExcelWriter('output.xlsx')  \n",
    "info_marks.to_excel(writer)  \n",
    "writer.save()  \n",
    "print('DataFrame is written successfully to the Excel File.')  "
   ]
  },
  {
   "cell_type": "code",
   "execution_count": null,
   "metadata": {},
   "outputs": [],
   "source": [
    "#pandas data convert to csv file"
   ]
  },
  {
   "cell_type": "code",
   "execution_count": 28,
   "metadata": {},
   "outputs": [
    {
     "name": "stdout",
     "output_type": "stream",
     "text": [
      "DataFrame Values:\n",
      "      Name   ID    Language\n",
      "0   Smith  101      Python\n",
      "1  Parker  102  JavaScript\n",
      "\n",
      "CSV String Values:\n",
      " ,Name,ID,Language\n",
      "0,Smith,101,Python\n",
      "1,Parker,102,JavaScript\n",
      "\n"
     ]
    }
   ],
   "source": [
    "import pandas as pd  \n",
    "data = {'Name': ['Smith', 'Parker'], 'ID': [101, 102], 'Language': ['Python', 'JavaScript']}  \n",
    "info = pd.DataFrame(data)  \n",
    "print('DataFrame Values:\\n', info)  \n",
    "# default CSV  \n",
    "csv_data = info.to_csv()  \n",
    "print('\\nCSV String Values:\\n', csv_data)  "
   ]
  },
  {
   "cell_type": "code",
   "execution_count": null,
   "metadata": {},
   "outputs": [],
   "source": [
    "choose multiple data from thedata frame"
   ]
  },
  {
   "cell_type": "code",
   "execution_count": 2,
   "metadata": {},
   "outputs": [
    {
     "name": "stdout",
     "output_type": "stream",
     "text": [
      "   age  weight  height  stanuthu\n",
      "0    3      10     5.0     42.25\n",
      "1   10      22     5.3     74.31\n",
      "2   30      68     6.0    103.72\n",
      "3   35      70     7.0    131.70\n",
      "4   45      65     6.5    158.75\n",
      "5   50      72     7.2    185.12\n",
      "6   33      68     6.8    198.34\n",
      "7   55      72     7.2    123.45\n",
      "8   60      88     7.5    132.45\n"
     ]
    }
   ],
   "source": [
    "import pandas as pd\n",
    "\n",
    "df =pd.read_csv(\"age_cul.csv\")\n",
    "print(df)"
   ]
  },
  {
   "cell_type": "code",
   "execution_count": 4,
   "metadata": {},
   "outputs": [
    {
     "data": {
      "text/plain": [
       "array([[  3.  ,  10.  ,   5.  ,  42.25],\n",
       "       [ 10.  ,  22.  ,   5.3 ,  74.31],\n",
       "       [ 30.  ,  68.  ,   6.  , 103.72],\n",
       "       [ 35.  ,  70.  ,   7.  , 131.7 ],\n",
       "       [ 45.  ,  65.  ,   6.5 , 158.75],\n",
       "       [ 50.  ,  72.  ,   7.2 , 185.12],\n",
       "       [ 33.  ,  68.  ,   6.8 , 198.34],\n",
       "       [ 55.  ,  72.  ,   7.2 , 123.45],\n",
       "       [ 60.  ,  88.  ,   7.5 , 132.45]])"
      ]
     },
     "execution_count": 4,
     "metadata": {},
     "output_type": "execute_result"
    }
   ],
   "source": [
    "df.values  # print the colums values"
   ]
  },
  {
   "cell_type": "code",
   "execution_count": 5,
   "metadata": {},
   "outputs": [
    {
     "data": {
      "text/plain": [
       "Index(['age', 'weight', 'height', 'stanuthu'], dtype='object')"
      ]
     },
     "execution_count": 5,
     "metadata": {},
     "output_type": "execute_result"
    }
   ],
   "source": [
    "df.columns #print the columns name"
   ]
  },
  {
   "cell_type": "code",
   "execution_count": 6,
   "metadata": {},
   "outputs": [
    {
     "data": {
      "text/plain": [
       "RangeIndex(start=0, stop=9, step=1)"
      ]
     },
     "execution_count": 6,
     "metadata": {},
     "output_type": "execute_result"
    }
   ],
   "source": [
    "df.index #print the index value"
   ]
  },
  {
   "cell_type": "code",
   "execution_count": null,
   "metadata": {},
   "outputs": [],
   "source": []
  }
 ],
 "metadata": {
  "kernelspec": {
   "display_name": "Python 3",
   "language": "python",
   "name": "python3"
  },
  "language_info": {
   "codemirror_mode": {
    "name": "ipython",
    "version": 3
   },
   "file_extension": ".py",
   "mimetype": "text/x-python",
   "name": "python",
   "nbconvert_exporter": "python",
   "pygments_lexer": "ipython3",
   "version": "3.7.6"
  }
 },
 "nbformat": 4,
 "nbformat_minor": 4
}
